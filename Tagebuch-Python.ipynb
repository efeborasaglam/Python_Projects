{
 "cells": [
  {
   "cell_type": "markdown",
   "metadata": {},
   "source": [
    "<h1>Modeul 323 / Lerntagebuch von <span style=\"color: #0000FF\t;\">Efe Bora Saglam</span></h1>\n"
   ]
  },
  {
   "cell_type": "markdown",
   "metadata": {},
   "source": [
    "<h3>Import Libraries inkl meinem Beispiel: </h3>"
   ]
  },
  {
   "cell_type": "markdown",
   "metadata": {},
   "source": [
    "<h4>1. Mein Beispiel mit random</h4>"
   ]
  },
  {
   "cell_type": "code",
   "execution_count": null,
   "metadata": {},
   "outputs": [],
   "source": [
    "import random as rd # random gibt aber normalerweise zahlen von 0 und 1\n",
    "for i in range(10): \n",
    "    print(int(7*rd.random()))"
   ]
  },
  {
   "cell_type": "markdown",
   "metadata": {},
   "source": [
    "<h4>2. Beispiel mit funktionen</h4>"
   ]
  },
  {
   "cell_type": "code",
   "execution_count": 17,
   "metadata": {},
   "outputs": [
    {
     "name": "stdout",
     "output_type": "stream",
     "text": [
      "Ausgangswerte vor sum1:  2 3\n",
      "Zwischenwerte nach sum1:  5 2 3\n",
      "None\n",
      "Zwischenwwerte nach sum2:  5 3\n",
      "Zwischenwwerte nach sum3:  8 3\n",
      "11\n",
      "Endwerte nach sum3:  8 3\n"
     ]
    }
   ],
   "source": [
    "# IMS - KSB 2023 - Modul 323\n",
    "# SW1-Bsp1\n",
    "# Imperative vs. Funktionale Programmierung\n",
    "# bilden einer Summe zweier Variabeln\n",
    "\n",
    "\n",
    "num1 = 2\n",
    "num2 = 3\n",
    "\n",
    "def sum1(n1, n2):       # deklarativ funktional - pure function - könte noch vereinfacht werden --> wie?\n",
    "    s = n1 + n2\n",
    "    return(s)\n",
    "\n",
    "\n",
    "def sum2():             # imperativ - impure function\n",
    "    global num1\n",
    "    global num2\n",
    "    \n",
    "    num1 = num1 + num2\n",
    "    \n",
    "def sum3(num1, num2):   # deklarativ funktional - pure function --> Vereinfachung von sum1\n",
    "    return(num1 + num2)\n",
    "    \n",
    "print(\"Ausgangswerte vor sum1: \", num1, num2)\n",
    "print(\"Zwischenwerte nach sum1: \", sum1(num1, num2), num1, num2)\n",
    "\n",
    "print(sum2())\n",
    "print(\"Zwischenwwerte nach sum2: \", num1, num2)\n",
    "\n",
    "num1 = sum3(num1,num2)\n",
    "print(\"Zwischenwwerte nach sum3: \", num1, num2)\n",
    "print(sum3(num1,num2))\n",
    "print(\"Endwerte nach sum3: \", num1, num2)\n"
   ]
  },
  {
   "cell_type": "markdown",
   "metadata": {},
   "source": [
    "am anfang wird der zahl num1 und 2 definiert und bekommen ein wert. 2 und 3. Danach werden Funktionen gebildet wie mit def. Danach werden die Funktionen aufgerufen mit print. Hauptsächlich geht es hier um den summenberechnungen"
   ]
  },
  {
   "cell_type": "markdown",
   "metadata": {},
   "source": [
    "<h4>3. Beispiele mit Wurzel berechnung</h4>"
   ]
  },
  {
   "cell_type": "code",
   "execution_count": 18,
   "metadata": {},
   "outputs": [
    {
     "name": "stdout",
     "output_type": "stream",
     "text": [
      "5.0\n",
      "5.0\n"
     ]
    }
   ],
   "source": [
    "# Funktionale Programmierung des Pythagoras\n",
    "# Problembeschreibung:\n",
    "# Berechnung der Hypotenuse als Wurzel aus der Summe der beiden quadrierten Katheten\n",
    "\n",
    "import math\n",
    "\n",
    "def quadrat(kat):\n",
    "    return kat*kat\n",
    "\n",
    "def wurzel(base):\n",
    "    return math.pow(base, 0.5)\n",
    "\n",
    "\n",
    "def summe(sum1, sum2):\n",
    "    return sum1 + sum2\n",
    "\n",
    "def hypotenuse(kat1, kat2):\n",
    "    hypotenuse = math.sqrt(kat1*kat1 + kat2*kat2)\n",
    "    return hypotenuse\n",
    "\n",
    "print(hypotenuse(3, 4))\n",
    "\n",
    "print(wurzel(summe(quadrat(3), quadrat(4))))"
   ]
  },
  {
   "cell_type": "markdown",
   "metadata": {},
   "source": [
    "Hier wird der wurzel der folgenden zahlen ausgerechnet. Aber dafür ist ein import benötigt, import math ist benötigt. Die Zahlen werden erst definiert wenn wir den funktion aufrufen"
   ]
  },
  {
   "cell_type": "markdown",
   "metadata": {},
   "source": [
    "<h4>4. Pythagoras</h4>"
   ]
  },
  {
   "cell_type": "code",
   "execution_count": null,
   "metadata": {},
   "outputs": [],
   "source": [
    "import math\n",
    "\n",
    "a = 1\n",
    "b = 2\n",
    "\n",
    "def langeSeite():\n",
    "    a = int(input(\"Gib erste kurze Seite : \"))\n",
    "    b = int(input(\"Gib zweite kurze Seite: \"))\n",
    "    c = math.sqrt(a * a + b*b)\n",
    "    return(c)\n",
    "\n",
    "def kurzeSeite():\n",
    "    a = int(input(\"Gib kurze Seite : \"))\n",
    "    c = int(input(\"Gib lange Seite : \"))\n",
    "    b = math.sqrt(c*c - a*a)\n",
    "    return(b)\n",
    "    \n",
    "def Auswahl():\n",
    "    ausw = int(input(\"Wähle: 1 für lange Seite berechnen, 2 für kurze Seite berechnen: \"))\n",
    "    if ausw == 1:\n",
    "        return langeSeite()\n",
    "    elif ausw == 2:\n",
    "        return kurzeSeite()\n",
    "    else:\n",
    "        return \"Ungültige Auswahl. Bitte wähle 1 oder 2.\"\n",
    "\n",
    "print(\"Ergebnis: \",Auswahl())"
   ]
  },
  {
   "cell_type": "markdown",
   "metadata": {},
   "source": [
    "Da wird der Pyhton ausgerechnet, ich wollte das es möglichst benutzerfreundlich wird, deswegen wollte ich nicht mit Fachbegriffen arbeiten wie tangente oder gegentangente, und habe alles weggelassen und habe es einfach zu kurze Seite und lagne Seite geändert. Als erstes wird gefragt ob der User die kurze Seite ausrechnen möchte oder die lange Seite mit einer if else abfrage. Danach wird die jeweilige funktion aufgerufen."
   ]
  },
  {
   "cell_type": "markdown",
   "metadata": {},
   "source": [
    "<h4>5. Aufgabe mit Datenverarbeitung\n",
    "</h4>"
   ]
  },
  {
   "cell_type": "code",
   "execution_count": null,
   "metadata": {},
   "outputs": [],
   "source": [
    "# Beispiel: Pure Functions\n",
    "# Score-Verwaltung für ein Spiel\n",
    "# --> Globale Variable currentUser verwendet\n",
    "# --> Struktur users ist ebenfalls global\n",
    "# --> currentUsre als Parameter f. Update-Funktionen\n",
    "# --> ID- name ist nicht eindeutig\n",
    "\n",
    "\n",
    "\n",
    "currentUser = 0\n",
    "\n",
    "users = [{\"name\" : \"Holger\", \"score\" : 30, \"tries\" : 1},            # Datenstruktur users ist global, aber zentrale Datenstruktur\n",
    "         {\"name\" : \"Verena\", \"score\" : 110, \"tries\" : 4},           # Es ist zu beachten, dass hier die Namen als Id's nicht eindeutig sind!\n",
    "         {\"name\" : \"Peter\", \"score\" : 80, \"tries\" :3}]              # Hier wäre eine numerische Id oder ein anderer eindeutiger Identifier sicher besser!\n",
    "  \n",
    "print()\n",
    "\n",
    "def updateScore(newScore):\n",
    "    users[currentUser][\"score\"] += newScore\n",
    "\n",
    "def returnUsers():\n",
    "    return users\n",
    "\n",
    "def updateTries():\n",
    "    users[currentUser][\"tries\"] += 1\n",
    "\n",
    "def updateUsers(newUser):\n",
    "    global currentUser\n",
    "    currentUser = newUser\n",
    "\n",
    "print(returnUsers())\n",
    "updateScore(300)\n",
    "print(returnUsers())\n",
    "updateUsers(2)\n",
    "updateTries()\n",
    "print(returnUsers())"
   ]
  },
  {
   "cell_type": "markdown",
   "metadata": {},
   "source": [
    "Bei dieser Programm können wir eine Liste von User Daten sehen. Der User wird mit curentUser ausgewählt an den wir die Daten verarbeiten wollen, dann wird mit returnUsers alle User angezeigt. mit update Score wird der score plusgerechnet den angegebenen zahl.\n",
    "\n",
    "<br>\n",
    "Ausgangslage Mängel: <br>\n",
    "    -Globale variabeln<br>\n",
    "    --currentUser<br>\n",
    "    --users<br>\n",
    "    -impure Functions<br>\n",
    "    -referenzielle Parameterübergaben<br>\n",
    "<br>\n",
    "Verbesserung:\n",
    "    <br>- Glabale Variabeln elimiert\n",
    "        <br>-- current User\n",
    "    <br>-impure Functions gruppiert und deklairiert.\n",
    "    <br>-pure Functions verwenden eine Kopie der Originaldaten\n",
    "    <br>-Ggf, auch auf impure-Functions anwendbar. Sicher wenn z.B. die update-Function eine Exception wirft.\n"
   ]
  },
  {
   "cell_type": "markdown",
   "metadata": {},
   "source": [
    "<h1>2. Woche</h1>\n",
    "<br>\n",
    "- deklarive Programmiere <br>\n",
    "    definieren was man haben will <br>\n",
    "        - python <br>\n",
    "        - hashell<br>\n",
    "        - F#<br>\n",
    "        - HTML<br>\n",
    "        - SQL<br>\n",
    "<br>\n",
    "- imperative Programmieren<br>\n",
    "    wie wir es haben wollen<br>\n",
    "\n",
    "<br>\n",
    "- Side-effects<br>\n",
    "    globale variabeln vermeiden <br>\n",
    "- Referenzielle integrität/Transparenz <br>\n",
    "    break befehle, console abfrage, beinflusst unser programmier ablauf\n",
    "    <br>Pure Function<br>\n",
    "    man kann beides parallel verwenden"
   ]
  },
  {
   "cell_type": "markdown",
   "metadata": {},
   "source": [
    "a = 3<br>\n",
    "b = 5 <br>\n",
    "def sum(x, y):<br>\n",
    "    return x+y\n",
    "<br>\n",
    "summe(a, b)\n",
    "<br>\n",
    "// a geht in die variable von x und b in die variable von b<br>\n",
    "print(summe(a, b)) = 8<br>\n",
    "print(a, b) = 3.5<br>\n",
    "\n",
    "def sum(x, y):<br>\n",
    "    x = x + y<br>\n",
    "    return x<br>\n",
    "<br>\n",
    "summe(a, b)\n",
    "<br>\n",
    "print(summe(a, b)) = 8<br>\n",
    "print(a, b) = 3.5 <br>\n",
    "\n",
    "Beispiel andere\n",
    "<br>\n",
    "\n",
    "wort = \"Rababer\"<br>\n",
    "lower(satz):<br>\n",
    "    return satz.lower()<br>\n",
    "<br>\n",
    "res = lower (wort)<br>\n",
    "print(res) => rabarber<br>\n",
    "print(wort) => rabarber<br>"
   ]
  },
  {
   "cell_type": "markdown",
   "metadata": {},
   "source": [
    "abstraktion heisst veralgemailigen<br>\n",
    "rale"
   ]
  },
  {
   "cell_type": "code",
   "execution_count": null,
   "metadata": {},
   "outputs": [],
   "source": [
    "liste = [2, 4, 7, 22]\n",
    "liste(map(add10, liste))\n",
    "\n",
    "map rechnet so mal 10 oder halt soviel wie angegeben"
   ]
  },
  {
   "cell_type": "code",
   "execution_count": null,
   "metadata": {},
   "outputs": [],
   "source": [
    "# versuch 1 geld verdoppler:\n",
    "def mal(x):\n",
    "    def mal_x(y):\n",
    "        return x * y\n",
    "    return mal_x\n",
    "\n",
    "\n",
    "def mult_liste(liste, faktor):\n",
    "    mal_f = mal(faktor)\n",
    "    return list(map(mal_f, liste)) # interative datenstruktur \n",
    "\n",
    "def Geldauswahl():\n",
    "    li = [10, 12, 3, 23, 4, 5, 11, 2]\n",
    "    print(li, \" Wähle etwas aus?\")\n",
    "    abfrage = int(input(\" Gib zahl,\"))\n",
    "    if(abfrage == 10):\n",
    "        print(\"Gut, möchtest du so viel geld: \",li[0],\" Fr. oder verdoppeln und weiter geben?\")\n",
    "    elif(abfrage == 12):\n",
    "        print(\"Gut, möchtest du so viel geld: \",li[1],\" Fr. oder verdoppeln und weiter geben?\")\n",
    "    elif(abfrage == 3):    \n",
    "        print(\"Gut, möchtest du so viel geld: \",li[2],\" Fr. oder verdoppeln und weiter geben?\")    \n",
    "    elif(abfrage == 23):    \n",
    "        print(\"Gut, möchtest du so viel geld: \",li[3],\" Fr. oder verdoppeln und weiter geben?\")    \n",
    "    elif(abfrage == 4):    \n",
    "        print(\"Gut, möchtest du so viel geld: \",li[4],\" Fr. oder verdoppeln und weiter geben?\")   \n",
    "    elif(abfrage == 5):    \n",
    "        print(\"Gut, möchtest du so viel geld: \",li[5],\" Fr. oder verdoppeln und weiter geben?\")    \n",
    "    elif(abfrage == 11):    \n",
    "        print(\"Gut, möchtest du so viel geld: \",li[6],\" Fr. oder verdoppeln und weiter geben?\")    \n",
    "    elif(abfrage == 12):    \n",
    "        print(\"Gut, möchtest du so viel geld: \",li[7],\" Fr. oder verdoppeln und weiter geben?\")    \n",
    "    else:\n",
    "        print(\"Gut, möchtest du so viel geld: \",li[0],\" Fr. oder verdoppeln und weiter geben?\")   \n",
    "    \n",
    "print(Geldauswahl)\n",
    "\n",
    "abfrage = int(input(\"1 für ja, 2 für nein, belibig nein : \"))\n",
    "if(abfrage == 1):\n",
    "    print()\n",
    "    print(\"Du bist sehr nett, \", mult_liste(li, 2), \" wurde weitergegeben\")\n",
    "else:\n",
    "    print(\"glückwunsch du bist reich du hast \", li[0], \" Fr. gewonnen\")"
   ]
  }
 ],
 "metadata": {
  "kernelspec": {
   "display_name": "Python 3",
   "language": "python",
   "name": "python3"
  },
  "language_info": {
   "codemirror_mode": {
    "name": "ipython",
    "version": 3
   },
   "file_extension": ".py",
   "mimetype": "text/x-python",
   "name": "python",
   "nbconvert_exporter": "python",
   "pygments_lexer": "ipython3",
   "version": "3.12.5"
  }
 },
 "nbformat": 4,
 "nbformat_minor": 2
}
